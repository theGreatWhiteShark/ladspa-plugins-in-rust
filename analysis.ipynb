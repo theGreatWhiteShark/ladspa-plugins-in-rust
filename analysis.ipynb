{
 "cells": [
  {
   "cell_type": "markdown",
   "metadata": {},
   "source": [
    "### Motivation\n",
    "\n",
    "In this analysis we will have a look at both the performance of the Rust stereo delay compared to its C counterpart and the resulting audio file.\n",
    "\n",
    "### Prerequisites"
   ]
  },
  {
   "cell_type": "code",
   "execution_count": 5,
   "metadata": {},
   "outputs": [
    {
     "name": "stderr",
     "output_type": "stream",
     "text": [
      "Updating HTML index of packages in '.Library'\n",
      "Making 'packages.html' ... done\n"
     ]
    }
   ],
   "source": [
    "install.packages(c(\"seewave\", \"signal\", \"tuneR\", \"ggplot2\", \"microbenchmark\"))"
   ]
  },
  {
   "cell_type": "code",
   "execution_count": 6,
   "metadata": {},
   "outputs": [],
   "source": [
    "library(seewave)\n",
    "library(tuneR)\n",
    "library(ggplot2)\n",
    "library(microbenchmark)"
   ]
  },
  {
   "cell_type": "markdown",
   "metadata": {},
   "source": [
    "### Performance comparison\n",
    "\n",
    "Despite of all the syntactic sugar, the memory safety, and the feeling to be part of the 21st century, the most important feature of a LADSPA plugin written in `Rust` should be its performance. Since it is using the `C` ABI and the compiled objects can be called from `C` without any overhead, I had the expectation that it would run almost as fast as its `C` counterpart.\n",
    "\n",
    "Let's first try it with a wrapper around a wrapper. The `microbenchmark` is a `R` function calling `apply_delay.sh` 200 times and reporting some summary statistics about the time taken during execution. This script is a wrapper around the `applyplugin` binary shipped with the [ladspa_sdk](https://www.ladspa.org/download/index.html). It sets up a LADSPA host, plays back the input audio file and pipes the result - modulated by the supplied LADSPA plugin - into the output audio file."
   ]
  },
  {
   "cell_type": "code",
   "execution_count": 13,
   "metadata": {},
   "outputs": [],
   "source": [
    "benchmark.c <- microbenchmark(\n",
    "    system2(\"bash\", c(\"apply_delay.sh\", \"delay_snare_c.wav\", \n",
    "                      \"./c/delay_stereo.so\", \"c_delay_5s_stereo\"),\n",
    "            stdout = FALSE), times = 200)\n",
    "benchmark.rust <- microbenchmark(\n",
    "    system2(\"bash\", c(\"apply_delay.sh\", \"delay_snare_rust.wav\",\n",
    "                      \"./rust/target/release/librust_delay_5s_stereo.so\",\n",
    "                      \"rust_delay_5s_stereo\"), \n",
    "            stdout = FALSE), times = 200)"
   ]
  },
  {
   "cell_type": "code",
   "execution_count": 15,
   "metadata": {},
   "outputs": [
    {
     "name": "stdout",
     "output_type": "stream",
     "text": [
      "Unit: milliseconds\n",
      "                                                                                                                       expr\n",
      " system2(\"bash\", c(\"apply_delay.sh\", \"delay_snare_c.wav\", \"./c/delay_stereo.so\",      \"c_delay_5s_stereo\"), stdout = FALSE)\n",
      "      min      lq     mean   median       uq      max neval\n",
      " 16.33747 17.0486 17.79931 17.28952 17.61409 29.58463   200\n"
     ]
    }
   ],
   "source": [
    "print(benchmark.c)"
   ]
  },
  {
   "cell_type": "code",
   "execution_count": 16,
   "metadata": {},
   "outputs": [
    {
     "name": "stdout",
     "output_type": "stream",
     "text": [
      "Unit: milliseconds\n",
      "                                                                                                                                                          expr\n",
      " system2(\"bash\", c(\"apply_delay.sh\", \"delay_snare_rust.wav\", \"./rust/target/release/librust_delay_5s_stereo.so\",      \"rust_delay_5s_stereo\"), stdout = FALSE)\n",
      "      min       lq     mean  median       uq      max neval\n",
      " 20.89194 21.31846 22.11495 21.6921 22.11272 30.38315   200\n"
     ]
    }
   ],
   "source": [
    "print(benchmark.rust)"
   ]
  },
  {
   "cell_type": "markdown",
   "metadata": {},
   "source": [
    "Well, this doesn't look good at all.\n",
    "\n",
    "The `Rust` version takes a lot longer than the `C` counterpart. Also mind the fact that we used a wrapper around a wrapper! So, the relative increase in the time taken by processing the plugin is probably a lot larger than 22.11/17.79. This is not good at all and more or less a red line being crossed making `Rust` a language not suitable for writing LADSPA plugins.\n",
    "\n",
    "### Comparing the results\n",
    "\n",
    "But let's have a look at the original and the delayed samples."
   ]
  },
  {
   "cell_type": "code",
   "execution_count": 18,
   "metadata": {},
   "outputs": [],
   "source": [
    "sample.original <-\n",
    "  readWave(\"./snare.wav\")\n",
    "sample.delayed.rust <-\n",
    "  readWave(\"./delay_snare_rust.wav\")\n",
    "sample.delayed.c <-\n",
    "  readWave(\"./delay_snare_c.wav\")"
   ]
  },
  {
   "cell_type": "markdown",
   "metadata": {},
   "source": [
    "Plot the files into one figure. Since we expect the `Rust` and `C` to produce exactly the same result, both figures should be identically and one should hide the other."
   ]
  },
  {
   "cell_type": "code",
   "execution_count": 19,
   "metadata": {},
   "outputs": [
    {
     "data": {
      "image/png": "[encoded data removed]",
      "text/plain": [
       "plot without title"
      ]
     },
     "metadata": {},
     "output_type": "display_data"
    }
   ],
   "source": [
    "plot.data <- data.frame(\n",
    "    time = rep(seq(1, length(sample.original@left))/\n",
    "               sample.original@samp.rate, 6 ),\n",
    "    audio.data = c(sample.original@left, sample.delayed.rust@left,\n",
    "                   sample.delayed.c@left, sample.original@right,\n",
    "                   sample.delayed.rust@right, sample.delayed.c@right),\n",
    "    sample = rep(c(rep(\"original\", length(sample.original@left)),\n",
    "                   rep(\"rust\", length(sample.original@left)),\n",
    "                   rep(\"c\", length(sample.original@left))), 2),\n",
    "    channel = c(rep(\"left\", length(sample.original@left) * 3),\n",
    "                rep(\"right\", length(sample.original@left) * 3)))\n",
    "\n",
    "ggplot(data = plot.data, aes(x = time, y = audio.data,\n",
    "                             color = sample)) +\n",
    "  geom_line() + facet_grid(channel ~ ., scales = \"free\") + \n",
    "  theme_bw()"
   ]
  },
  {
   "cell_type": "markdown",
   "metadata": {},
   "source": [
    "Well, this looks alright. The results of both channels are exactly what was expected.\n",
    "\n",
    "Let's be sure the output of both plugins are the same by comparing the underlying data."
   ]
  },
  {
   "cell_type": "code",
   "execution_count": 20,
   "metadata": {},
   "outputs": [],
   "source": [
    "difference.data <- data.frame(\n",
    "    left.channel = sample.delayed.rust@left - sample.delayed.c@left,\n",
    "    right.channel = sample.delayed.rust@right -\n",
    "      sample.delayed.c@right)\n",
    "\n",
    "if (any(max(difference.data) != c(0,0))) {\n",
    "  warning(\"The Rust and C plugin do not yield the same result!\")\n",
    "}"
   ]
  },
  {
   "cell_type": "markdown",
   "metadata": {},
   "source": [
    "Perfect. "
   ]
  }
 ],
 "metadata": {
  "kernelspec": {
   "display_name": "R",
   "language": "R",
   "name": "ir"
  },
  "language_info": {
   "codemirror_mode": "r",
   "file_extension": ".r",
   "mimetype": "text/x-r-source",
   "name": "R",
   "pygments_lexer": "r",
   "version": "3.6.1"
  }
 },
 "nbformat": 4,
 "nbformat_minor": 2
}
